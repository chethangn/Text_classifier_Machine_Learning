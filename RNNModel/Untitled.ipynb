{
 "cells": [
  {
   "cell_type": "code",
   "execution_count": 1,
   "metadata": {},
   "outputs": [
    {
     "name": "stderr",
     "output_type": "stream",
     "text": [
      "Using Theano backend.\n",
      "WARNING (theano.tensor.blas): Using NumPy C-API based implementation for BLAS functions.\n"
     ]
    }
   ],
   "source": [
    "import numpy as np\n",
    "import pandas as pd\n",
    "import pickle\n",
    "from collections import defaultdict\n",
    "import re\n",
    "from bs4 import BeautifulSoup\n",
    "import sys\n",
    "import os\n",
    "os.environ['KERAS_BACKEND']='theano'\n",
    "from keras.preprocessing.text import Tokenizer\n",
    "from keras.preprocessing.sequence import pad_sequences\n",
    "from keras.utils.np_utils import to_categorical\n",
    "from keras.layers import Embedding\n",
    "from keras.layers import Dense, Input, Flatten\n",
    "from keras.layers import Conv1D, MaxPooling1D, Embedding, Dropout, LSTM, GRU, Bidirectional\n",
    "from keras.models import Model\n",
    "from keras.callbacks import ModelCheckpoint\n",
    "import matplotlib.pyplot as plt\n",
    "plt.switch_backend('agg')\n",
    "from keras import backend as K\n",
    "from keras.engine.topology import Layer, InputSpec\n",
    "from keras import initializers\n",
    "%matplotlib inline"
   ]
  },
  {
   "cell_type": "code",
   "execution_count": 2,
   "metadata": {},
   "outputs": [],
   "source": [
    "MAX_SEQUENCE_LENGTH = 1000\n",
    "MAX_NB_WORDS = 20000\n",
    "EMBEDDING_DIM = 100\n",
    "VALIDATION_SPLIT = 0.2"
   ]
  },
  {
   "cell_type": "code",
   "execution_count": 3,
   "metadata": {},
   "outputs": [],
   "source": [
    "weather_data = np.load('./data/weatherdata.npy')\n",
    "music_data = np.load('./data/musicdata.npy')\n",
    "bookreasturant_data = np.load('./data/bookreasturantdata.npy')"
   ]
  },
  {
   "cell_type": "code",
   "execution_count": 4,
   "metadata": {},
   "outputs": [
    {
     "name": "stdout",
     "output_type": "stream",
     "text": [
      "(2400, 2)\n",
      "(2400, 2)\n",
      "(1973, 2)\n"
     ]
    }
   ],
   "source": [
    "print(weather_data.shape)\n",
    "print(music_data.shape)\n",
    "print(bookreasturant_data.shape)\n",
    "data = np.concatenate((weather_data, music_data), axis=0)\n",
    "data = np.concatenate((data, bookreasturant_data), axis=0)\n",
    "np.random.shuffle(data)"
   ]
  },
  {
   "cell_type": "code",
   "execution_count": 5,
   "metadata": {},
   "outputs": [
    {
     "name": "stdout",
     "output_type": "stream",
     "text": [
      "('Shape of dataset ', (6773, 2))\n",
      "Index([u'message', u'class'], dtype='object')\n",
      "('No. of unique classes', 3)\n"
     ]
    }
   ],
   "source": [
    "df = pd.DataFrame()\n",
    "df = pd.DataFrame(data)\n",
    "df = df.dropna()\n",
    "df = df.reset_index(drop=True)\n",
    "df[0].astype(str).values\n",
    "df[1].astype(str).values\n",
    "df.columns = ['message', 'class']\n",
    "print('Shape of dataset ',df.shape)\n",
    "print(df.columns)\n",
    "print('No. of unique classes',len(set(df['class'])))"
   ]
  },
  {
   "cell_type": "code",
   "execution_count": 6,
   "metadata": {},
   "outputs": [
    {
     "name": "stdout",
     "output_type": "stream",
     "text": [
      "                                                message           class\n",
      "0     me and aisha and craving cordon bleu and need ...  bookrestaurant\n",
      "1     Is it forecast to be stormy close to Nimule-Na...         weather\n",
      "2                              play some latin on Zvooq           music\n",
      "3     Please play the newest music by Evil Jared Has...           music\n",
      "4                     Play something by Louisiana Blues           music\n",
      "5           Play Igor Nikolayev music from the fourties           music\n",
      "6     Will it be snowy on february the 14th, 2021 in...         weather\n",
      "7     Tell me the weather forecast for Sugarloaf Pro...         weather\n",
      "8               Play the top-ten soundtrack from Kiara.           music\n",
      "9     what is the forecast starting at six pm at Jan...         weather\n",
      "10               Lets eat at Newport Creamery in Carnot  bookrestaurant\n",
      "11                          book a best tavern for nine  bookrestaurant\n",
      "12                Play rie fu music sorted by the best.           music\n",
      "13                                  forecast for Israel         weather\n",
      "14    Will it get chilly 1 minute from now in Carter...         weather\n",
      "15    book a table 1 year from now for corinne, tish...  bookrestaurant\n",
      "16    play the It Could Only Happen With You album b...           music\n",
      "17                        Will it be windy in Tequesta?         weather\n",
      "18    Book a table for my great grandfather and I at...  bookrestaurant\n",
      "19     Will there be hail in 8 minutes in Iroquois, MA?         weather\n",
      "20                play music by Charlie Adams from 1954           music\n",
      "21         Play music from Sleepy John Estes from 2002.           music\n",
      "22                    Play something by Louisiana Blues           music\n",
      "23                        Please play Every Woman In Me           music\n",
      "24          What will the weather be in North Carolina?         weather\n",
      "25    what is the forecast for Sea Isle City in Loui...         weather\n",
      "26    I want to hear any top five music from Gene Autry           music\n",
      "27                                play music on netflix           music\n",
      "28                                    book a spot in MI  bookrestaurant\n",
      "29    I need to know the forecast for two am in Gran...         weather\n",
      "...                                                 ...             ...\n",
      "6743  book a mediterranean restaurant for my sister ...  bookrestaurant\n",
      "6744              Play some music from 1962 from Adeyto           music\n",
      "6745            What's the humidity right now in Aguila         weather\n",
      "6746                 book a table for ten in Pollock PA  bookrestaurant\n",
      "6747  What's the weather forecast at sixteen in Okla...         weather\n",
      "6748                            Play Pandora on Last Fm           music\n",
      "6749                           Play some klezmer fiddle           music\n",
      "6750       book in Ukraine at a highly rated restaurant  bookrestaurant\n",
      "6751                      Play movement music from 1954           music\n",
      "6752  Book reservations for ava gonzales, raquel bro...  bookrestaurant\n",
      "6753               book a gastropub serves waffle for 8  bookrestaurant\n",
      "6754  I want a table for seven at twenty three o'clo...  bookrestaurant\n",
      "6755             play some King Tubby from the eighties           music\n",
      "6756  What's the weather forecast for Porphyry Islan...         weather\n",
      "6757       What will the weather be in Overton at 8 pm?         weather\n",
      "6758  i need to book a restaurant for five in Liberi...  bookrestaurant\n",
      "6759  Give me the forecast for San Pedro River Preserve         weather\n",
      "6760  Play the good sort of 1992 theme music by Layz...           music\n",
      "6761                 Please play some Bill Evans music.           music\n",
      "6762                           play Wow by Jon Theodore           music\n",
      "6763  What will the weather be a nine in Willow Rive...         weather\n",
      "6764                     play a track from the thirties           music\n",
      "6765                     Play something by Brian Chase.           music\n",
      "6766        what is the forecast for next may in Zambia         weather\n",
      "6767                     Play Taiwan Is Good by Kotoko.           music\n",
      "6768                        put on a Serge Robert track           music\n",
      "6769               book a restaurant in AL at Oak Ridge  bookrestaurant\n",
      "6770    I want to book a bar neighboring our apartment.  bookrestaurant\n",
      "6771  Book a reservation for seven people at Fraser ...  bookrestaurant\n",
      "6772  Book reservations at a diner that serves ribs ...  bookrestaurant\n",
      "\n",
      "[6773 rows x 2 columns]\n"
     ]
    }
   ],
   "source": [
    "print(df)"
   ]
  },
  {
   "cell_type": "code",
   "execution_count": 7,
   "metadata": {},
   "outputs": [],
   "source": [
    "macronum=sorted(set(df['class']))\n",
    "macro_to_id = dict((note, number) for number, note in enumerate(macronum))\n",
    "\n",
    "def fun(i):\n",
    "    return macro_to_id[i]\n",
    "\n",
    "df['class']=df['class'].apply(fun)"
   ]
  },
  {
   "cell_type": "code",
   "execution_count": 8,
   "metadata": {},
   "outputs": [
    {
     "name": "stdout",
     "output_type": "stream",
     "text": [
      "6773\n"
     ]
    }
   ],
   "source": [
    "texts = []\n",
    "labels = []\n",
    "\n",
    "import spacy\n",
    "import time\n",
    "nlp = spacy.load('en_core_web_sm')\n",
    "\n",
    "for idx in range(df.message.shape[0]):\n",
    "    text = df.message[idx]\n",
    "    doc = nlp(text)\n",
    "    wordsinsidetext = \"\"\n",
    "    newtext = 1\n",
    "    for token in doc:\n",
    "        if not token.is_stop:\n",
    "            if newtext == 1:\n",
    "                wordsinsidetext = wordsinsidetext + (str(token.lemma_))\n",
    "            if newtext == 0:\n",
    "                wordsinsidetext = wordsinsidetext + \" \" + (str(token.lemma_))\n",
    "            newtext = 0\n",
    "    texts.append(wordsinsidetext.encode())\n",
    "\n",
    "\n",
    "# for idx in range(df.message.shape[0]):\n",
    "#     text = BeautifulSoup(df.message[idx])\n",
    "#     texts.append(clean_str(str(text.get_text().encode())))\n",
    "\n",
    "for idx in df['class']:\n",
    "    labels.append(idx)\n",
    "\n",
    "    \n",
    "print(len(texts))\n",
    "\n",
    "import pickle\n",
    "with open('textsdata', 'wb') as fp:\n",
    "    pickle.dump(texts, fp)"
   ]
  },
  {
   "cell_type": "code",
   "execution_count": 9,
   "metadata": {},
   "outputs": [
    {
     "name": "stdout",
     "output_type": "stream",
     "text": [
      "('Number of Unique Tokens', 6552)\n"
     ]
    }
   ],
   "source": [
    "tokenizer = Tokenizer(num_words=MAX_NB_WORDS)\n",
    "tokenizer.fit_on_texts(texts)\n",
    "sequences = tokenizer.texts_to_sequences(texts)\n",
    "# print(sequences)\n",
    "word_index = tokenizer.word_index\n",
    "print('Number of Unique Tokens',len(word_index))"
   ]
  },
  {
   "cell_type": "code",
   "execution_count": 10,
   "metadata": {},
   "outputs": [
    {
     "name": "stdout",
     "output_type": "stream",
     "text": [
      "[[   0    0    0 ...    2   10   53]\n",
      " [   0    0    0 ...  223   23   49]\n",
      " [   0    0    0 ...    1  510   87]\n",
      " ...\n",
      " [   0    0    0 ...   42  148 1385]\n",
      " [   0    0    0 ... 2331 6551  390]\n",
      " [   0    0    0 ...  290 6552  191]]\n",
      "('Shape of Data Tensor:', (6773, 1000))\n",
      "('Shape of Label Tensor:', (6773, 3))\n"
     ]
    }
   ],
   "source": [
    "data = pad_sequences(sequences, maxlen=MAX_SEQUENCE_LENGTH)\n",
    "print(data)\n",
    "labels = to_categorical(np.asarray(labels))\n",
    "print('Shape of Data Tensor:', data.shape)\n",
    "print('Shape of Label Tensor:', labels.shape)\n",
    "\n",
    "indices = np.arange(data.shape[0])\n",
    "np.random.shuffle(indices)\n",
    "data = data[indices]\n",
    "labels = labels[indices]\n",
    "nb_validation_samples = int(VALIDATION_SPLIT * data.shape[0])\n",
    "\n",
    "x_train = data[:-nb_validation_samples]\n",
    "y_train = labels[:-nb_validation_samples]\n",
    "x_val = data[-nb_validation_samples:]\n",
    "y_val = labels[-nb_validation_samples:]\n",
    "# print(x_train[0])"
   ]
  },
  {
   "cell_type": "code",
   "execution_count": 11,
   "metadata": {},
   "outputs": [
    {
     "name": "stdout",
     "output_type": "stream",
     "text": [
      "Total 400000 word vectors in Glove 6B 100d.\n"
     ]
    }
   ],
   "source": [
    "embeddings_index = {}\n",
    "# f = open('glove.6B.100d.txt',encoding='utf8')\n",
    "import io\n",
    "f = io.open('glove.6B.100d.txt', encoding='utf-8')\n",
    "for line in f:\n",
    "    values = line.split()\n",
    "    word = values[0]\n",
    "    coefs = np.asarray(values[1:], dtype='float32')\n",
    "    embeddings_index[word] = coefs\n",
    "f.close()\n",
    "\n",
    "print('Total %s word vectors in Glove 6B 100d.' % len(embeddings_index))"
   ]
  },
  {
   "cell_type": "code",
   "execution_count": 12,
   "metadata": {},
   "outputs": [],
   "source": [
    "embedding_matrix = np.random.random((len(word_index) + 1, EMBEDDING_DIM))\n",
    "for word, i in word_index.items():\n",
    "    embedding_vector = embeddings_index.get(word)\n",
    "    if embedding_vector is not None:\n",
    "        # words not found in embedding index will be all-zeros.\n",
    "        embedding_matrix[i] = embedding_vector\n",
    "\n",
    "embedding_layer = Embedding(len(word_index) + 1,\n",
    "                            EMBEDDING_DIM,weights=[embedding_matrix],\n",
    "                            input_length=MAX_SEQUENCE_LENGTH,trainable=True)"
   ]
  },
  {
   "cell_type": "code",
   "execution_count": 13,
   "metadata": {},
   "outputs": [
    {
     "name": "stdout",
     "output_type": "stream",
     "text": [
      "Bidirectional LSTM\n",
      "_________________________________________________________________\n",
      "Layer (type)                 Output Shape              Param #   \n",
      "=================================================================\n",
      "input_1 (InputLayer)         (None, 1000)              0         \n",
      "_________________________________________________________________\n",
      "embedding_1 (Embedding)      (None, 1000, 100)         655300    \n",
      "_________________________________________________________________\n",
      "bidirectional_1 (Bidirection (None, 200)               160800    \n",
      "_________________________________________________________________\n",
      "dense_1 (Dense)              (None, 3)                 603       \n",
      "=================================================================\n",
      "Total params: 816,703\n",
      "Trainable params: 816,703\n",
      "Non-trainable params: 0\n",
      "_________________________________________________________________\n"
     ]
    }
   ],
   "source": [
    "sequence_input = Input(shape=(MAX_SEQUENCE_LENGTH,), dtype='int32')\n",
    "embedded_sequences = embedding_layer(sequence_input)\n",
    "l_lstm = Bidirectional(LSTM(100))(embedded_sequences)\n",
    "preds = Dense(len(macronum), activation='softmax')(l_lstm)\n",
    "model = Model(sequence_input, preds)\n",
    "model.compile(loss='categorical_crossentropy',\n",
    "              optimizer='rmsprop',\n",
    "              metrics=['acc'])\n",
    "\n",
    "print(\"Bidirectional LSTM\")\n",
    "model.summary()"
   ]
  },
  {
   "cell_type": "code",
   "execution_count": 14,
   "metadata": {},
   "outputs": [
    {
     "name": "stdout",
     "output_type": "stream",
     "text": [
      "Train on 5419 samples, validate on 1354 samples\n",
      "Epoch 1/15\n",
      "5419/5419 [==============================] - 7624s 1s/step - loss: 0.0705 - acc: 0.9825 - val_loss: 0.0468 - val_acc: 0.9934\n",
      "\n",
      "Epoch 00001: val_acc improved from -inf to 0.99335, saving model to model_rnn.hdf5\n",
      "Epoch 2/15\n",
      "5419/5419 [==============================] - 5021s 927ms/step - loss: 0.0320 - acc: 0.9965 - val_loss: 0.0792 - val_acc: 0.9897\n",
      "\n",
      "Epoch 00002: val_acc did not improve from 0.99335\n",
      "Epoch 3/15\n",
      "5419/5419 [==============================] - 5238s 967ms/step - loss: 0.0300 - acc: 0.9967 - val_loss: 0.0836 - val_acc: 0.9911\n",
      "\n",
      "Epoch 00003: val_acc did not improve from 0.99335\n",
      "Epoch 4/15\n",
      "5419/5419 [==============================] - 4549s 839ms/step - loss: 0.0247 - acc: 0.9978 - val_loss: 0.0809 - val_acc: 0.9911\n",
      "\n",
      "Epoch 00004: val_acc did not improve from 0.99335\n",
      "Epoch 5/15\n",
      "5419/5419 [==============================] - 4774s 881ms/step - loss: 0.0216 - acc: 0.9982 - val_loss: 0.0427 - val_acc: 0.9948\n",
      "\n",
      "Epoch 00005: val_acc improved from 0.99335 to 0.99483, saving model to model_rnn.hdf5\n",
      "Epoch 6/15\n",
      "5419/5419 [==============================] - 9307s 2s/step - loss: 0.0211 - acc: 0.9982 - val_loss: 0.0628 - val_acc: 0.9926\n",
      "\n",
      "Epoch 00006: val_acc did not improve from 0.99483\n",
      "Epoch 7/15\n",
      "5419/5419 [==============================] - 4353s 803ms/step - loss: 0.0196 - acc: 0.9983 - val_loss: 0.0454 - val_acc: 0.9948\n",
      "\n",
      "Epoch 00007: val_acc did not improve from 0.99483\n",
      "Epoch 8/15\n",
      "5419/5419 [==============================] - 4351s 803ms/step - loss: 0.0157 - acc: 0.9987 - val_loss: 0.0744 - val_acc: 0.9919\n",
      "\n",
      "Epoch 00008: val_acc did not improve from 0.99483\n",
      "Epoch 9/15\n",
      "5419/5419 [==============================] - 4372s 807ms/step - loss: 0.0143 - acc: 0.9989 - val_loss: 0.0608 - val_acc: 0.9948\n",
      "\n",
      "Epoch 00009: val_acc did not improve from 0.99483\n",
      "Epoch 10/15\n",
      "5419/5419 [==============================] - 4374s 807ms/step - loss: 0.0151 - acc: 0.9987 - val_loss: 0.0635 - val_acc: 0.9948\n",
      "\n",
      "Epoch 00010: val_acc did not improve from 0.99483\n",
      "Epoch 11/15\n",
      "5419/5419 [==============================] - 4368s 806ms/step - loss: 0.0126 - acc: 0.9989 - val_loss: 0.0635 - val_acc: 0.9934\n",
      "\n",
      "Epoch 00011: val_acc did not improve from 0.99483\n",
      "Epoch 12/15\n",
      "5419/5419 [==============================] - 4355s 804ms/step - loss: 0.0123 - acc: 0.9991 - val_loss: 0.0985 - val_acc: 0.9919\n",
      "\n",
      "Epoch 00012: val_acc did not improve from 0.99483\n",
      "Epoch 13/15\n",
      "5419/5419 [==============================] - 4414s 814ms/step - loss: 0.0120 - acc: 0.9993 - val_loss: 0.0743 - val_acc: 0.9926\n",
      "\n",
      "Epoch 00013: val_acc did not improve from 0.99483\n",
      "Epoch 14/15\n",
      "5419/5419 [==============================] - 5914s 1s/step - loss: 0.0119 - acc: 0.9993 - val_loss: 0.0701 - val_acc: 0.9941\n",
      "\n",
      "Epoch 00014: val_acc did not improve from 0.99483\n",
      "Epoch 15/15\n",
      "5419/5419 [==============================] - 5910s 1s/step - loss: 0.0119 - acc: 0.9993 - val_loss: 0.0666 - val_acc: 0.9948\n",
      "\n",
      "Epoch 00015: val_acc did not improve from 0.99483\n"
     ]
    }
   ],
   "source": [
    "cp=ModelCheckpoint('model_rnn.hdf5',monitor='val_acc',verbose=1,save_best_only=True)\n",
    "history=model.fit(x_train, y_train, validation_data=(x_val, y_val),epochs=15, batch_size=2,callbacks=[cp])"
   ]
  },
  {
   "cell_type": "code",
   "execution_count": 15,
   "metadata": {},
   "outputs": [
    {
     "data": {
      "image/png": "[encoded data removed]",
      "text/plain": [
       "<Figure size 432x288 with 1 Axes>"
      ]
     },
     "metadata": {},
     "output_type": "display_data"
    }
   ],
   "source": [
    "fig1 = plt.figure()\n",
    "plt.plot(history.history['loss'],'r',linewidth=3.0)\n",
    "plt.plot(history.history['val_loss'],'b',linewidth=3.0)\n",
    "plt.legend(['Training loss', 'Validation Loss'],fontsize=18)\n",
    "plt.xlabel('Epochs ',fontsize=16)\n",
    "plt.ylabel('Loss',fontsize=16)\n",
    "plt.title('Loss Curves :RNN',fontsize=16)\n",
    "fig1.savefig('loss_rnn.png')\n",
    "plt.show()"
   ]
  },
  {
   "cell_type": "code",
   "execution_count": 16,
   "metadata": {},
   "outputs": [
    {
     "data": {
      "image/png": "[encoded data removed]",
      "text/plain": [
       "<Figure size 432x288 with 1 Axes>"
      ]
     },
     "metadata": {},
     "output_type": "display_data"
    }
   ],
   "source": [
    "fig2=plt.figure()\n",
    "plt.plot(history.history['acc'],'r',linewidth=3.0)\n",
    "plt.plot(history.history['val_acc'],'b',linewidth=3.0)\n",
    "plt.legend(['Training Accuracy', 'Validation Accuracy'],fontsize=18)\n",
    "plt.xlabel('Epochs ',fontsize=16)\n",
    "plt.ylabel('Accuracy',fontsize=16)\n",
    "plt.title('Accuracy Curves : RNN',fontsize=16)\n",
    "fig2.savefig('accuracy_rnn.png')\n",
    "plt.show()"
   ]
  },
  {
   "cell_type": "code",
   "execution_count": 17,
   "metadata": {},
   "outputs": [],
   "source": [
    "from keras.models import load_model\n",
    "\n",
    "model.save('my_model.h5')  # creates a HDF5 file 'my_model.h5'"
   ]
  },
  {
   "cell_type": "code",
   "execution_count": 18,
   "metadata": {},
   "outputs": [
    {
     "name": "stdout",
     "output_type": "stream",
     "text": [
      "Saved model to disk\n"
     ]
    }
   ],
   "source": [
    "# serialize model to JSON\n",
    "model_json = model.to_json()\n",
    "with open(\"model.json\", \"w\") as json_file:\n",
    "    json_file.write(model_json)\n",
    "# serialize weights to HDF5\n",
    "model.save_weights(\"model.h5\")\n",
    "print(\"Saved model to disk\")"
   ]
  },
  {
   "cell_type": "code",
   "execution_count": 19,
   "metadata": {},
   "outputs": [
    {
     "name": "stdout",
     "output_type": "stream",
     "text": [
      "Loaded model from disk\n"
     ]
    }
   ],
   "source": [
    "from keras.models import model_from_json\n",
    "# load json and create model\n",
    "json_file = open('model.json', 'r')\n",
    "loaded_model_json = json_file.read()\n",
    "json_file.close()\n",
    "loaded_model = model_from_json(loaded_model_json)\n",
    "# load weights into new model\n",
    "loaded_model.load_weights(\"model.h5\")\n",
    "print(\"Loaded model from disk\")"
   ]
  },
  {
   "cell_type": "code",
   "execution_count": 20,
   "metadata": {},
   "outputs": [
    {
     "data": {
      "text/plain": [
       "array([[1.0000000e+00, 3.6387536e-15, 5.1624012e-14]], dtype=float32)"
      ]
     },
     "execution_count": 20,
     "metadata": {},
     "output_type": "execute_result"
    }
   ],
   "source": [
    "model.predict(x_train[0:1])"
   ]
  }
 ],
 "metadata": {
  "kernelspec": {
   "display_name": "Python 2",
   "language": "python",
   "name": "python2"
  },
  "language_info": {
   "codemirror_mode": {
    "name": "ipython",
    "version": 2
   },
   "file_extension": ".py",
   "mimetype": "text/x-python",
   "name": "python",
   "nbconvert_exporter": "python",
   "pygments_lexer": "ipython2",
   "version": "2.7.12"
  }
 },
 "nbformat": 4,
 "nbformat_minor": 2
}
